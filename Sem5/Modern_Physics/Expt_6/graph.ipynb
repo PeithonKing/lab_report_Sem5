{
 "cells": [
  {
   "cell_type": "code",
   "execution_count": null,
   "metadata": {
    "id": "unm3unTdQR_I"
   },
   "outputs": [],
   "source": [
    "import matplotlib.pyplot as plt"
   ]
  },
  {
   "cell_type": "code",
   "execution_count": null,
   "metadata": {},
   "outputs": [],
   "source": [
    "xs = [0, 7.5, 8, 8.5, 9, 9.5, 10, 10.5, 11, 11.5, 12, 12.5, 13, 14, 15, 16, 17, 17.5, 18, 18.5, 19, 20, 21, 22, 23, 24, 25, 26, 28, 29, 30, 32, 34, 35, 36, 38, 39, 40, 41, 43, 44, 45, 46, 47, 48, 49, 50, 52, 54, 54.5, 55, 55.5, 56, 56.5, 57, 58, 59, 60, 62, 64, 65, 66, 68, 70]\n",
    "ys = [0, 0, 1, 3, 4, 5, 5, 6, 7, 8, 8, 9, 9, 9, 10, 11, 11, 12, 11, 10, 9, 7, 1, 0, -3, -3, 0, 4, 12, 15, 20, 26, 32, 33, 32, 23, 18, 12, 6, 3, 4, 9, 15, 24, 35, 48, 55, 76, 88, 90, 91, 91, 90, 88, 88, 85, 82, 81, 85, 100, 109, 118, 152, 181]\n",
    "plt.figure(dpi=500)\n",
    "plt.plot(xs, ys, \"rx\", markersize=5)\n",
    "plt.plot(xs, ys)"
   ]
  }
 ],
 "metadata": {
  "colab": {
   "collapsed_sections": [],
   "provenance": []
  },
  "kernelspec": {
   "display_name": "Python 3 (ipykernel)",
   "language": "python",
   "name": "python3"
  },
  "language_info": {
   "codemirror_mode": {
    "name": "ipython",
    "version": 3
   },
   "file_extension": ".py",
   "mimetype": "text/x-python",
   "name": "python",
   "nbconvert_exporter": "python",
   "pygments_lexer": "ipython3",
   "version": "3.9.13"
  },
  "vscode": {
   "interpreter": {
    "hash": "95b59b4b0e72d3e94105c3ab4f1a1e6e746e4c2a7c235241251baf92fb36381f"
   }
  }
 },
 "nbformat": 4,
 "nbformat_minor": 1
}
